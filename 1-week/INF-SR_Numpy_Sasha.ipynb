{
 "cells": [
  {
   "cell_type": "markdown",
   "metadata": {},
   "source": [
    "Before you turn this problem in, make sure everything runs as expected. First, **restart the kernel** (in the menubar, select Kernel$\\rightarrow$Restart) and then **run all cells** (in the menubar, select Cell$\\rightarrow$Run All).\n",
    "\n",
    "Make sure you fill in any place that says `YOUR CODE HERE` or \"YOUR ANSWER HERE\".\n",
    "\n",
    "START WITH ENTERING **YOUR NAME AND STUDENT ID** (DO NOT PUT SOME RANDOM TEXT HERE!!).\n",
    "\n",
    "Enter also the name of your **collaborator AND STUDENT ID** below.\n",
    "\n",
    "The first student name (with ID) should submit in Canvas. NOT the colloborator."
   ]
  },
  {
   "cell_type": "code",
   "execution_count": 2,
   "metadata": {},
   "outputs": [],
   "source": [
    "FULL_NAME = \"Sasha van der Linden\"\n",
    "ID = \"14014297\"\n",
    "COLLABORATOR = \"Dave van Wijk\"\n",
    "ID2 = \"14527820\""
   ]
  },
  {
   "cell_type": "code",
   "execution_count": 3,
   "metadata": {},
   "outputs": [],
   "source": [
    "assert ID != \"\"\n"
   ]
  },
  {
   "cell_type": "markdown",
   "metadata": {},
   "source": [
    "---"
   ]
  },
  {
   "cell_type": "markdown",
   "metadata": {
    "toc": true
   },
   "source": [
    "<h1>Table of Contents<span class=\"tocSkip\"></span></h1>\n",
    "<div class=\"toc\"><ul class=\"toc-item\"><li><span><a href=\"#Introduction\" data-toc-modified-id=\"Introduction-1\"><span class=\"toc-item-num\">1&nbsp;&nbsp;</span>Introduction</a></span></li><li><span><a href=\"#Array-Calculations-and-Indexing\" data-toc-modified-id=\"Array-Calculations-and-Indexing-2\"><span class=\"toc-item-num\">2&nbsp;&nbsp;</span>Array Calculations and Indexing</a></span></li><li><span><a href=\"#Views-on-Arrays\" data-toc-modified-id=\"Views-on-Arrays-3\"><span class=\"toc-item-num\">3&nbsp;&nbsp;</span>Views on Arrays</a></span></li><li><span><a href=\"#Tricks-with-Arrays\" data-toc-modified-id=\"Tricks-with-Arrays-4\"><span class=\"toc-item-num\">4&nbsp;&nbsp;</span>Tricks with Arrays</a></span></li><li><span><a href=\"#Data-Matrix-and-Target-Vector\" data-toc-modified-id=\"Data-Matrix-and-Target-Vector-5\"><span class=\"toc-item-num\">5&nbsp;&nbsp;</span>Data Matrix and Target Vector</a></span></li><li><span><a href=\"#Linear-Algebra\" data-toc-modified-id=\"Linear-Algebra-6\"><span class=\"toc-item-num\">6&nbsp;&nbsp;</span>Linear Algebra</a></span></li></ul></div>"
   ]
  },
  {
   "cell_type": "markdown",
   "metadata": {},
   "source": [
    "# INF-SR: LabExercise Numpy"
   ]
  },
  {
   "cell_type": "code",
   "execution_count": 4,
   "metadata": {},
   "outputs": [],
   "source": [
    "import numpy as np\n",
    "import matplotlib.pyplot as plt\n",
    "import sys\n",
    "if sys.version_info[0] < 3:\n",
    "    raise Exception(\"Must be using Python 3\")"
   ]
  },
  {
   "cell_type": "markdown",
   "metadata": {},
   "source": [
    "## Introduction\n",
    "$\\newcommand{\\v}[1]{{\\mathbf #1}}$"
   ]
  },
  {
   "cell_type": "markdown",
   "metadata": {},
   "source": [
    "In machine learning we are dealing with massive amounts of data. Data most often organised in tables. When all data elements in a table are of the same datatype (like an integer or a floating point number) the table can be represented with a homogeneous array.\n",
    "\n",
    "Languages that are optimally suited for programming with data are therefore equipped with array data types that are integral part of the language. Although arrays look a lot like python lists they are not as shown in the following code."
   ]
  },
  {
   "cell_type": "code",
   "execution_count": null,
   "metadata": {},
   "outputs": [],
   "source": [
    "a = np.array([1, 2, 3])\n",
    "print(type(a))"
   ]
  },
  {
   "cell_type": "code",
   "execution_count": null,
   "metadata": {},
   "outputs": [],
   "source": [
    "print(a)"
   ]
  },
  {
   "cell_type": "code",
   "execution_count": null,
   "metadata": {},
   "outputs": [],
   "source": [
    "b = [1, 2, 3]\n",
    "print(b)"
   ]
  },
  {
   "cell_type": "code",
   "execution_count": null,
   "metadata": {},
   "outputs": [],
   "source": [
    "print(a+a)"
   ]
  },
  {
   "cell_type": "code",
   "execution_count": null,
   "metadata": {},
   "outputs": [],
   "source": [
    "print(b+b)"
   ]
  },
  {
   "cell_type": "markdown",
   "metadata": {},
   "source": [
    "Both lists and arrays are so called iterables in Python, therefor constructions like the following are possible:"
   ]
  },
  {
   "cell_type": "code",
   "execution_count": null,
   "metadata": {},
   "outputs": [],
   "source": [
    "for element in a:\n",
    "    print(element)"
   ]
  },
  {
   "cell_type": "code",
   "execution_count": null,
   "metadata": {},
   "outputs": [],
   "source": [
    "for element in b:\n",
    "    print(element)"
   ]
  },
  {
   "cell_type": "markdown",
   "metadata": {},
   "source": [
    "The nice thing about Numpy arrays is that it allows you to manipulate the data in arrays without writing explicit loops. For instance look at the addition of all elements in an array:"
   ]
  },
  {
   "cell_type": "code",
   "execution_count": 12,
   "metadata": {},
   "outputs": [],
   "source": [
    "a = np.random.rand(65536)"
   ]
  },
  {
   "cell_type": "code",
   "execution_count": null,
   "metadata": {},
   "outputs": [],
   "source": [
    "print(a)\n",
    "print(a.shape)"
   ]
  },
  {
   "cell_type": "code",
   "execution_count": null,
   "metadata": {},
   "outputs": [],
   "source": [
    "def loopsum(a):\n",
    "    sum = 0\n",
    "    for v in a:\n",
    "        sum += v\n",
    "    return sum\n",
    "\n",
    "%timeit loopsum(a)\n",
    "%timeit np.sum(a)"
   ]
  },
  {
   "cell_type": "markdown",
   "metadata": {},
   "source": [
    "So the explicit loop sum function in python takes milliseconds versus microseconds for the numpy version. That is many times slower for the explicit loop version.\n",
    "\n",
    "So be aware in this course to use build-in Numpy tools to manipulate and calculate with arrays.\n",
    "\n",
    "There are many python/numpy tutorials available like this one http://cs231n.github.io/python-numpy-tutorial/.\n",
    "\n",
    "<span style=\"color:red\">**Please open up a numpy manual or tutorial and only then use the exercises below to test your knowledge on numpy**</span>\n"
   ]
  },
  {
   "cell_type": "markdown",
   "metadata": {},
   "source": [
    "## Array Calculations and Indexing"
   ]
  },
  {
   "cell_type": "markdown",
   "metadata": {},
   "source": [
    "First we define some array to work with. By explicitly setting the seed the random number generator will always return the same 'random' numbers... (so i know the answers)"
   ]
  },
  {
   "cell_type": "code",
   "execution_count": null,
   "metadata": {
    "deletable": false,
    "editable": false,
    "nbgrader": {
     "cell_type": "code",
     "checksum": "707210951f4e239cffce36e9bdd9cdbf",
     "grade": false,
     "grade_id": "cell-52072b619a23b751",
     "locked": true,
     "schema_version": 3,
     "solution": false,
     "task": false
    }
   },
   "outputs": [],
   "source": [
    "np.random.seed(99283)\n",
    "\n",
    "A = np.random.randint(1,10, size=(8,5))\n",
    "print(\"A = \", A)\n",
    "\n",
    "B = np.random.randint(1,10, size=(8,5))\n",
    "print(\"B = \", B)\n",
    "\n",
    "C = np.random.randint(1, 10, size=(128,))\n",
    "print(\"C = \", C)"
   ]
  },
  {
   "cell_type": "markdown",
   "metadata": {},
   "source": [
    "Write two functions: one to calculate the elementwise sum of A and B and another one to calculate the *elementwise* product of A and B. You are not allowed to use loops over the elements in the array."
   ]
  },
  {
   "cell_type": "code",
   "execution_count": 16,
   "metadata": {
    "deletable": false,
    "nbgrader": {
     "cell_type": "code",
     "checksum": "23165add3a49e2ef8a9c9b9fd49142b4",
     "grade": false,
     "grade_id": "cell-29290f0254a1751d",
     "locked": false,
     "schema_version": 3,
     "solution": true,
     "task": false
    }
   },
   "outputs": [],
   "source": [
    "def sumArrays(a, b):\n",
    "    return a + b"
   ]
  },
  {
   "cell_type": "code",
   "execution_count": 17,
   "metadata": {
    "deletable": false,
    "editable": false,
    "nbgrader": {
     "cell_type": "code",
     "checksum": "0b93344dccdf9592a79d02022e506862",
     "grade": true,
     "grade_id": "cell-5c7dfd032812d8a1",
     "locked": true,
     "points": 1,
     "schema_version": 3,
     "solution": false,
     "task": false
    }
   },
   "outputs": [],
   "source": [
    "# Check that functions are correct\n",
    "assert np.all(sumArrays(A,B) == \\\n",
    "np.array([[17,  8,  6,  7, 14],\n",
    "       [16, 14,  7,  6,  9],\n",
    "       [16,  9,  6,  9, 11],\n",
    "       [ 9, 12, 12, 11, 11],\n",
    "       [12,  8,  8, 12,  8],\n",
    "       [ 9, 14, 10,  7,  9],\n",
    "       [18,  2, 13, 13,  9],\n",
    "       [12, 14, 12, 13,  5]]))\n",
    "\n",
    "assert np.all(sumArrays(A,-A) == np.zeros_like(A))\n"
   ]
  },
  {
   "cell_type": "code",
   "execution_count": 22,
   "metadata": {
    "deletable": false,
    "nbgrader": {
     "cell_type": "code",
     "checksum": "cc9196adc72476322982546af0a46654",
     "grade": false,
     "grade_id": "cell-fe1e6fd29053e945",
     "locked": false,
     "schema_version": 3,
     "solution": true,
     "task": false
    }
   },
   "outputs": [],
   "source": [
    "def mulArrays(a, b):\n",
    "    return a * b"
   ]
  },
  {
   "cell_type": "code",
   "execution_count": 23,
   "metadata": {
    "deletable": false,
    "editable": false,
    "nbgrader": {
     "cell_type": "code",
     "checksum": "71ce9c46d5be6468e393ac3ecef13ddf",
     "grade": true,
     "grade_id": "cell-f546c73e975eedad",
     "locked": true,
     "points": 1,
     "schema_version": 3,
     "solution": false,
     "task": false
    }
   },
   "outputs": [],
   "source": [
    "assert np.all(mulArrays(A,B) == \\\n",
    "np.array([[72, 15,  8,  6, 48],\n",
    "       [63, 49,  6,  8, 18],\n",
    "       [64, 20,  8, 20, 18],\n",
    "       [14, 32, 32, 28, 30],\n",
    "       [32, 12, 15, 35, 12],\n",
    "       [ 8, 48, 16, 12,  8],\n",
    "       [81,  1, 40, 36,  8],\n",
    "       [27, 45, 35, 36,  6]]))\n",
    "assert np.all(mulArrays(B, 1/B) == np.ones_like(B))"
   ]
  },
  {
   "cell_type": "markdown",
   "metadata": {},
   "source": [
    "Calculate the mean of all elements in an array *without* using the mean or average function from numpy."
   ]
  },
  {
   "cell_type": "code",
   "execution_count": 63,
   "metadata": {
    "deletable": false,
    "nbgrader": {
     "cell_type": "code",
     "checksum": "00004733a0244ae68d0587f796bbeb38",
     "grade": false,
     "grade_id": "cell-880a8b8fa871f651",
     "locked": false,
     "schema_version": 3,
     "solution": true,
     "task": false
    }
   },
   "outputs": [],
   "source": [
    "def meanArray(a):\n",
    "    return a.sum() / a.size"
   ]
  },
  {
   "cell_type": "code",
   "execution_count": 64,
   "metadata": {
    "deletable": false,
    "editable": false,
    "nbgrader": {
     "cell_type": "code",
     "checksum": "d83d20cca3d4aa086a05f1fda14181c4",
     "grade": true,
     "grade_id": "cell-6782fbf80c307344",
     "locked": true,
     "points": 1,
     "schema_version": 3,
     "solution": false,
     "task": false
    }
   },
   "outputs": [],
   "source": [
    "assert meanArray(A) == np.mean(A) # the np.mean function that you can't use\n",
    "assert meanArray(B) == np.mean(B)\n",
    "assert np.allclose(meanArray(B/np.mean(B)), 1)"
   ]
  },
  {
   "cell_type": "markdown",
   "metadata": {},
   "source": [
    "Calculate the standard deviation of all elements in an array *without* using the var or std functions from numpy."
   ]
  },
  {
   "cell_type": "code",
   "execution_count": 69,
   "metadata": {
    "deletable": false,
    "nbgrader": {
     "cell_type": "code",
     "checksum": "5470bfa5ef549111c844a49da5466667",
     "grade": false,
     "grade_id": "cell-c2ddc67cd81a641c",
     "locked": false,
     "schema_version": 3,
     "solution": true,
     "task": false
    }
   },
   "outputs": [],
   "source": [
    "def stdArray(a):\n",
    "    mean = meanArray(a)\n",
    "    total = 0\n",
    "    for i in a:\n",
    "        total += sum((i - mean) ** 2)\n",
    "    return (total / a.size) ** 0.5\n"
   ]
  },
  {
   "cell_type": "code",
   "execution_count": 70,
   "metadata": {
    "deletable": false,
    "editable": false,
    "nbgrader": {
     "cell_type": "code",
     "checksum": "b95a416b4e221fec27dae18782d319fb",
     "grade": true,
     "grade_id": "cell-a50b9f6c92113f06",
     "locked": true,
     "points": 1,
     "schema_version": 3,
     "solution": false,
     "task": false
    }
   },
   "outputs": [],
   "source": [
    "assert np.allclose(stdArray(A), np.std(A))\n",
    "assert np.allclose(stdArray(B), np.std(B))"
   ]
  },
  {
   "cell_type": "markdown",
   "metadata": {},
   "source": [
    "From C select the elements C[0], C[2], C[4], ... and sum all these"
   ]
  },
  {
   "cell_type": "code",
   "execution_count": 77,
   "metadata": {
    "deletable": false,
    "nbgrader": {
     "cell_type": "code",
     "checksum": "116147785ad07aebfb08248c87276e24",
     "grade": false,
     "grade_id": "cell-de61262252966599",
     "locked": false,
     "schema_version": 3,
     "solution": true,
     "task": false
    }
   },
   "outputs": [],
   "source": [
    "def sumEven(a):\n",
    "    return a[::2].sum()"
   ]
  },
  {
   "cell_type": "code",
   "execution_count": 78,
   "metadata": {
    "deletable": false,
    "editable": false,
    "nbgrader": {
     "cell_type": "code",
     "checksum": "fdeab1e587a260d758fc5d7d11b92a35",
     "grade": true,
     "grade_id": "cell-70d643c166e13f3c",
     "locked": true,
     "points": 1,
     "schema_version": 3,
     "solution": false,
     "task": false
    }
   },
   "outputs": [],
   "source": [
    "assert 328 == sumEven(C)"
   ]
  },
  {
   "cell_type": "markdown",
   "metadata": {},
   "source": [
    "Select the first 32 elements from array C:"
   ]
  },
  {
   "cell_type": "code",
   "execution_count": 81,
   "metadata": {
    "deletable": false,
    "nbgrader": {
     "cell_type": "code",
     "checksum": "4acd60d09932188cfe74a3dfcce12291",
     "grade": false,
     "grade_id": "cell-4f48ddbd1a326d49",
     "locked": false,
     "schema_version": 3,
     "solution": true,
     "task": false
    }
   },
   "outputs": [],
   "source": [
    "def selectFirst32(a):\n",
    "    return a[:32]"
   ]
  },
  {
   "cell_type": "code",
   "execution_count": 82,
   "metadata": {
    "deletable": false,
    "editable": false,
    "nbgrader": {
     "cell_type": "code",
     "checksum": "8ecb5be15c6254d0f439822caede44aa",
     "grade": true,
     "grade_id": "cell-45847066b9f992ae",
     "locked": true,
     "points": 1,
     "schema_version": 3,
     "solution": false,
     "task": false
    }
   },
   "outputs": [],
   "source": [
    "assert all(selectFirst32(C) == \\\n",
    "           np.array([6, 5, 4, 5, 9, 8, 8, 4, \n",
    "                     2, 7, 8, 4, 1, 8, 9, 3, \n",
    "                     1, 1, 3, 3, 3, 7, 9, 4, \n",
    "                     8, 4, 3, 8, 1, 5, 3, 1]))"
   ]
  },
  {
   "cell_type": "markdown",
   "metadata": {},
   "source": [
    "Select all elements from C that are not equal to 8. This can be done without explicit loops using the concept of **logical indexing** (see the numpy documentation for this)."
   ]
  },
  {
   "cell_type": "code",
   "execution_count": 87,
   "metadata": {
    "deletable": false,
    "nbgrader": {
     "cell_type": "code",
     "checksum": "bddbeaf7b624ec3bf48df324a04820a6",
     "grade": false,
     "grade_id": "cell-ac030237ced3816c",
     "locked": false,
     "schema_version": 3,
     "solution": true,
     "task": false
    }
   },
   "outputs": [],
   "source": [
    "def isnot8(a):\n",
    "    return a[a != 8]"
   ]
  },
  {
   "cell_type": "code",
   "execution_count": 88,
   "metadata": {
    "deletable": false,
    "editable": false,
    "nbgrader": {
     "cell_type": "code",
     "checksum": "0dbaa20f3574b0d24f9ff41e274d0a49",
     "grade": true,
     "grade_id": "cell-bc38e3feaa3d04cf",
     "locked": true,
     "points": 1,
     "schema_version": 3,
     "solution": false,
     "task": false
    }
   },
   "outputs": [],
   "source": [
    "correct_answer = np.array([6, 5, 4, 5, 9, 4, 2, 7, 4, 1, 9, 3, 1, 1, 3, 3, 3, 7, 9, 4, 4, 3,\n",
    "       1, 5, 3, 1, 3, 9, 7, 7, 9, 3, 4, 4, 7, 6, 2, 9, 1, 2, 9, 2, 3, 9,\n",
    "       1, 6, 5, 9, 5, 6, 7, 5, 5, 3, 9, 3, 9, 3, 3, 5, 6, 5, 6, 9, 5, 2,\n",
    "       1, 5, 6, 4, 3, 3, 3, 6, 9, 3, 4, 2, 2, 3, 1, 3, 2, 9, 4, 2, 5, 4,\n",
    "       3, 7, 5, 6, 6, 7, 5, 2, 2, 3, 3, 3, 9, 4, 9, 3, 7, 5, 6, 9, 6, 7,\n",
    "       6, 9])\n",
    "assert np.all(correct_answer == isnot8(C))"
   ]
  },
  {
   "cell_type": "markdown",
   "metadata": {},
   "source": [
    "Now select all rows from A that do not start with an 8"
   ]
  },
  {
   "cell_type": "code",
   "execution_count": 91,
   "metadata": {
    "deletable": false,
    "nbgrader": {
     "cell_type": "code",
     "checksum": "20059cbb37c55263506b1fa8ea4e370d",
     "grade": false,
     "grade_id": "cell-d73e0b687ec2ac81",
     "locked": false,
     "schema_version": 3,
     "solution": true,
     "task": false
    }
   },
   "outputs": [],
   "source": [
    "def notstart8(a):\n",
    "    return a[a[:,0] != 8]"
   ]
  },
  {
   "cell_type": "code",
   "execution_count": 92,
   "metadata": {
    "deletable": false,
    "editable": false,
    "nbgrader": {
     "cell_type": "code",
     "checksum": "24a5fc813c6f0b783ed4efb5712cfcad",
     "grade": true,
     "grade_id": "cell-5f4233be03f243bb",
     "locked": true,
     "points": 1,
     "schema_version": 3,
     "solution": false,
     "task": false
    }
   },
   "outputs": [],
   "source": [
    "assert np.all(notstart8(A) == \\\n",
    "           np.array([[9, 7, 6, 2, 3],\n",
    "                    [2, 4, 8, 4, 6],\n",
    "                    [4, 6, 3, 7, 6],\n",
    "                    [9, 1, 5, 9, 8],\n",
    "                    [9, 9, 5, 9, 2]]))"
   ]
  },
  {
   "cell_type": "markdown",
   "metadata": {},
   "source": [
    "Now select all rows that do not contain any 8"
   ]
  },
  {
   "cell_type": "code",
   "execution_count": 105,
   "metadata": {
    "deletable": false,
    "nbgrader": {
     "cell_type": "code",
     "checksum": "31c8df278fffd7fd7fddcf0bcb573d6a",
     "grade": false,
     "grade_id": "cell-eee1e0b64c1960f6",
     "locked": false,
     "schema_version": 3,
     "solution": true,
     "task": false
    }
   },
   "outputs": [],
   "source": [
    "def notany8(a):\n",
    "    return a[np.all(a != 8, axis=1)]"
   ]
  },
  {
   "cell_type": "code",
   "execution_count": 106,
   "metadata": {
    "deletable": false,
    "editable": false,
    "nbgrader": {
     "cell_type": "code",
     "checksum": "7c443d645f27422928183b358242ba80",
     "grade": true,
     "grade_id": "cell-2c4f36cbdca90a91",
     "locked": true,
     "points": 2,
     "schema_version": 3,
     "solution": false,
     "task": false
    }
   },
   "outputs": [],
   "source": [
    "assert np.all(notany8(A) == np.array([[9, 7, 6, 2, 3],\n",
    "       [4, 6, 3, 7, 6],\n",
    "       [9, 9, 5, 9, 2]]))"
   ]
  },
  {
   "cell_type": "markdown",
   "metadata": {},
   "source": [
    "Reverse the order of the columns in array B:"
   ]
  },
  {
   "cell_type": "code",
   "execution_count": 120,
   "metadata": {
    "deletable": false,
    "nbgrader": {
     "cell_type": "code",
     "checksum": "58224bdd06749c96965ffd1b4978371f",
     "grade": false,
     "grade_id": "cell-ae9f7770b2b27355",
     "locked": false,
     "schema_version": 3,
     "solution": true,
     "task": false
    }
   },
   "outputs": [],
   "source": [
    "def reverse_colums(a):\n",
    "    return a[:,::-1]"
   ]
  },
  {
   "cell_type": "code",
   "execution_count": 121,
   "metadata": {
    "deletable": false,
    "editable": false,
    "nbgrader": {
     "cell_type": "code",
     "checksum": "fdee3ce3336b7bd1c73d75f2c15b0e77",
     "grade": true,
     "grade_id": "cell-3f897a9870dbc926",
     "locked": true,
     "points": 1,
     "schema_version": 3,
     "solution": false,
     "task": false
    }
   },
   "outputs": [],
   "source": [
    "assert np.all(reverse_colums(B) == np.array([[6, 6, 4, 3, 9],\n",
    "       [6, 4, 1, 7, 7],\n",
    "       [2, 4, 2, 5, 8],\n",
    "       [5, 7, 4, 8, 7],\n",
    "       [2, 5, 5, 2, 8],\n",
    "       [1, 4, 2, 6, 1],\n",
    "       [1, 4, 8, 1, 9],\n",
    "       [3, 4, 7, 5, 3]]))"
   ]
  },
  {
   "cell_type": "markdown",
   "metadata": {},
   "source": [
    "Array indexing is probably one of the most difficult subjects of programming with numpy in an efficient way. Let A be a numpy ndarray (n-dimensional array) then A[obj] is an indexing operation on array A. It depends on the value and type of obj what type of indexing is used. There are really three types of indexing…\n",
    "\n"
   ]
  },
  {
   "cell_type": "markdown",
   "metadata": {},
   "source": [
    "## Views on Arrays"
   ]
  },
  {
   "cell_type": "markdown",
   "metadata": {},
   "source": [
    "Most often when you need arrays in programming, those arrays tend to be very large. Think of images with millions of pixels in it. Thus when calculating with arrays you don't want to make unnescessary copies of arrays. Numpy (thinks it) is very clever in circumventing the need of making copies of arrays. But the cleverness of numpy can bite you in the tail when your are not aware of what is going on."
   ]
  },
  {
   "cell_type": "code",
   "execution_count": 122,
   "metadata": {},
   "outputs": [
    {
     "name": "stdout",
     "output_type": "stream",
     "text": [
      "[[8 5 2 1 8]\n",
      " [9 7 6 2 3]\n",
      " [8 4 4 5 9]\n",
      " [2 4 8 4 6]\n",
      " [4 6 3 7 6]\n",
      " [8 8 8 3 8]\n",
      " [9 1 5 9 8]\n",
      " [9 9 5 9 2]]\n"
     ]
    }
   ],
   "source": [
    "AA = A.copy() # to be sure and not mess with A itself \n",
    "              # we start by explicitly making a copy \n",
    "print(AA)"
   ]
  },
  {
   "cell_type": "markdown",
   "metadata": {},
   "source": [
    "Next we select a subset of array AA and assign a new value to all elements in that smaller array."
   ]
  },
  {
   "cell_type": "code",
   "execution_count": 123,
   "metadata": {},
   "outputs": [
    {
     "name": "stdout",
     "output_type": "stream",
     "text": [
      "[[8 2 8]\n",
      " [8 4 9]\n",
      " [4 3 6]\n",
      " [9 5 8]]\n"
     ]
    }
   ],
   "source": [
    "AA2 = AA[::2,::2]\n",
    "print(AA2)"
   ]
  },
  {
   "cell_type": "code",
   "execution_count": 124,
   "metadata": {},
   "outputs": [
    {
     "name": "stdout",
     "output_type": "stream",
     "text": [
      "[[999 999 999]\n",
      " [999 999 999]\n",
      " [999 999 999]\n",
      " [999 999 999]]\n"
     ]
    }
   ],
   "source": [
    "AA2[:,:] = 999\n",
    "print(AA2)"
   ]
  },
  {
   "cell_type": "markdown",
   "metadata": {},
   "source": [
    "But lo and behold when we print the larger matrix AA:"
   ]
  },
  {
   "cell_type": "code",
   "execution_count": 125,
   "metadata": {},
   "outputs": [
    {
     "name": "stdout",
     "output_type": "stream",
     "text": [
      "[[999   5 999   1 999]\n",
      " [  9   7   6   2   3]\n",
      " [999   4 999   5 999]\n",
      " [  2   4   8   4   6]\n",
      " [999   6 999   7 999]\n",
      " [  8   8   8   3   8]\n",
      " [999   1 999   9 999]\n",
      " [  9   9   5   9   2]]\n"
     ]
    }
   ],
   "source": [
    "print(AA)"
   ]
  },
  {
   "cell_type": "markdown",
   "metadata": {},
   "source": [
    "Evidently AA2 is still refering to the same data elements as AA. We say that AA2 provides a new **view on array AA**. The new view can be of different shape (as it is here). But remember that a view still points to the same data as the array on which it is view.\n",
    "\n",
    "The rules Numpy uses when it doesn't and when it does make a copy of the data are not trivial. \n",
    "\n",
    "Be sure to keep this phenomenon in the back of your mind when confronted with a nasty bug in your code."
   ]
  },
  {
   "cell_type": "markdown",
   "metadata": {},
   "source": [
    "Slicing, indexing and views on arrays can be quite complex. Please read the documentation. Also note that even the Numpy documentation suggests to avoid the use of the `as_strided` function...\n",
    "\n",
    "Below a way to collect the values of sliding window of three elements. C10_3 is an array with 3 consequtive values of C10 in a column. The nice thing about it is that it is just a view on C10 and thus although we 'see' 24 values in the C10_3 array they are really refering to the 10 values in C10."
   ]
  },
  {
   "cell_type": "code",
   "execution_count": 126,
   "metadata": {},
   "outputs": [
    {
     "name": "stdout",
     "output_type": "stream",
     "text": [
      "[6 5 4 5 9 8 8 4 2 7]\n",
      "[[6 5 4 5 9 8 8 4]\n",
      " [5 4 5 9 8 8 4 2]\n",
      " [4 5 9 8 8 4 2 7]]\n",
      "[[ 6  5  4  5 99  8  8  4]\n",
      " [ 5  4  5 99  8  8  4  2]\n",
      " [ 4  5 99  8  8  4  2  7]]\n",
      "int64\n"
     ]
    }
   ],
   "source": [
    "from numpy.lib.stride_tricks import as_strided\n",
    "\n",
    "C10 = C[:10].copy() # i don't want to change C\n",
    "print(C10)\n",
    "C10_3 = as_strided(C10, (3,8), (8,8))\n",
    "print(C10_3)\n",
    "C10[4] = 99\n",
    "print(C10_3)\n",
    "print(C10.dtype)"
   ]
  },
  {
   "cell_type": "markdown",
   "metadata": {},
   "source": [
    "Now what happens when we change the datatype of C10?"
   ]
  },
  {
   "cell_type": "code",
   "execution_count": 127,
   "metadata": {},
   "outputs": [
    {
     "name": "stdout",
     "output_type": "stream",
     "text": [
      "[6 5 4 5 9 8 8 4 2 7]\n",
      "int32\n",
      "[[         6          4          9          8          2        673\n",
      "           0          0]\n",
      " [         4          9          8          2        673          0\n",
      "           0          0]\n",
      " [         9          8          2        673          0          0\n",
      "           0 -995356992]]\n"
     ]
    }
   ],
   "source": [
    "C10 = C[:10].copy() # i don't want to change C\n",
    "C10 = C10.astype(np.int32)\n",
    "print(C10)\n",
    "print(C10.dtype)\n",
    "C10_3 = as_strided(C10, (3,8), (8,8))\n",
    "print(C10_3)"
   ]
  },
  {
   "cell_type": "markdown",
   "metadata": {},
   "source": [
    "Probably not what you expected to happen... Again showing that working with strides of arrays is not easy (and dependent on the datatype... strides are specified in bytes!)"
   ]
  },
  {
   "cell_type": "markdown",
   "metadata": {},
   "source": [
    "Note: the above trick with strides is not what you are expected to be able to reproduce and use in this course."
   ]
  },
  {
   "cell_type": "markdown",
   "metadata": {},
   "source": [
    "## Tricks with Arrays"
   ]
  },
  {
   "cell_type": "markdown",
   "metadata": {},
   "source": [
    "Given the array C of shape (128,) make it into an array of shape (128,1). You can do that with the reshape method or with the use of the 'newaxis' index."
   ]
  },
  {
   "cell_type": "code",
   "execution_count": 130,
   "metadata": {
    "deletable": false,
    "nbgrader": {
     "cell_type": "code",
     "checksum": "5b7ed55dae3710cb71ada5d3d673ea4e",
     "grade": false,
     "grade_id": "cell-8125b850b25433b1",
     "locked": false,
     "schema_version": 3,
     "solution": true,
     "task": false
    }
   },
   "outputs": [],
   "source": [
    "def vector2array(a):\n",
    "    return a[:,np.newaxis]"
   ]
  },
  {
   "cell_type": "code",
   "execution_count": 131,
   "metadata": {
    "deletable": false,
    "editable": false,
    "nbgrader": {
     "cell_type": "code",
     "checksum": "a77fb783aaa41f92424130cab813287a",
     "grade": true,
     "grade_id": "cell-07b408ec9cdbbaf1",
     "locked": true,
     "points": 1,
     "schema_version": 3,
     "solution": false,
     "task": false
    }
   },
   "outputs": [],
   "source": [
    "assert vector2array(C).shape == (128,1)\n",
    "assert all(vector2array(C).flatten() == C)\n",
    "n = np.random.randint(50,500)\n",
    "D = np.random.rand(n)\n",
    "assert vector2array(D).shape == (n,1)\n",
    "assert np.all(vector2array(D).flatten() == D)"
   ]
  },
  {
   "cell_type": "markdown",
   "metadata": {},
   "source": [
    "We make some new data to work on:"
   ]
  },
  {
   "cell_type": "code",
   "execution_count": 132,
   "metadata": {
    "deletable": false,
    "editable": false,
    "nbgrader": {
     "cell_type": "code",
     "checksum": "9778be65b9132371e61886be48d59e04",
     "grade": false,
     "grade_id": "cell-b6eed99e1e8f4776",
     "locked": true,
     "schema_version": 3,
     "solution": false,
     "task": false
    }
   },
   "outputs": [
    {
     "name": "stdout",
     "output_type": "stream",
     "text": [
      "[[2 9 5 7 2]\n",
      " [4 3 4 2 7]\n",
      " [2 1 8 2 3]]\n",
      "[1 2 3 4 5]\n",
      "[1 2 3]\n"
     ]
    }
   ],
   "source": [
    "np.random.seed(38293804)\n",
    "A35 = np.random.randint(1,10,size=(3,5))\n",
    "print(A35)\n",
    "\n",
    "v5 = np.array([1,2,3,4,5])\n",
    "print(v5)\n",
    "\n",
    "v3 = np.array([1,2,3])\n",
    "print(v3)"
   ]
  },
  {
   "cell_type": "markdown",
   "metadata": {},
   "source": [
    "Subtract the (5,) array from each of the rows of A35. **Note there is no need to first duplicate the v5 array to form a (3,5) shaped array**. Note that your function should work for all arrays of size (m,n) and rows of size (n,)."
   ]
  },
  {
   "cell_type": "code",
   "execution_count": 133,
   "metadata": {
    "deletable": false,
    "nbgrader": {
     "cell_type": "code",
     "checksum": "dd353c349148b93a16edddb427326663",
     "grade": false,
     "grade_id": "cell-8e706889deb98346",
     "locked": false,
     "schema_version": 3,
     "solution": true,
     "task": false
    }
   },
   "outputs": [],
   "source": [
    "def subtract_row(a, r):\n",
    "    \"\"\"Subtract row r from all rows in a\"\"\"\n",
    "    # YOUR CODE HERE\n",
    "    raise NotImplementedError()"
   ]
  },
  {
   "cell_type": "code",
   "execution_count": 134,
   "metadata": {
    "deletable": false,
    "editable": false,
    "nbgrader": {
     "cell_type": "code",
     "checksum": "00e4661dd0581eb78f437d3cc2411cec",
     "grade": true,
     "grade_id": "cell-f93ee2bc1abadd8a",
     "locked": true,
     "points": 1,
     "schema_version": 3,
     "solution": false,
     "task": false
    }
   },
   "outputs": [
    {
     "ename": "NotImplementedError",
     "evalue": "",
     "output_type": "error",
     "traceback": [
      "\u001b[0;31m---------------------------------------------------------------------------\u001b[0m",
      "\u001b[0;31mNotImplementedError\u001b[0m                       Traceback (most recent call last)",
      "Cell \u001b[0;32mIn[134], line 1\u001b[0m\n\u001b[0;32m----> 1\u001b[0m \u001b[38;5;28;01massert\u001b[39;00m np\u001b[38;5;241m.\u001b[39mall(\u001b[43msubtract_row\u001b[49m\u001b[43m(\u001b[49m\u001b[43mA35\u001b[49m\u001b[43m,\u001b[49m\u001b[43m \u001b[49m\u001b[43mv5\u001b[49m\u001b[43m)\u001b[49m \u001b[38;5;241m==\u001b[39m np\u001b[38;5;241m.\u001b[39marray([[ \u001b[38;5;241m1\u001b[39m,  \u001b[38;5;241m7\u001b[39m,  \u001b[38;5;241m2\u001b[39m,  \u001b[38;5;241m3\u001b[39m, \u001b[38;5;241m-\u001b[39m\u001b[38;5;241m3\u001b[39m],\n\u001b[1;32m      2\u001b[0m        [ \u001b[38;5;241m3\u001b[39m,  \u001b[38;5;241m1\u001b[39m,  \u001b[38;5;241m1\u001b[39m, \u001b[38;5;241m-\u001b[39m\u001b[38;5;241m2\u001b[39m,  \u001b[38;5;241m2\u001b[39m],\n\u001b[1;32m      3\u001b[0m        [ \u001b[38;5;241m1\u001b[39m, \u001b[38;5;241m-\u001b[39m\u001b[38;5;241m1\u001b[39m,  \u001b[38;5;241m5\u001b[39m, \u001b[38;5;241m-\u001b[39m\u001b[38;5;241m2\u001b[39m, \u001b[38;5;241m-\u001b[39m\u001b[38;5;241m2\u001b[39m]]))\n",
      "Cell \u001b[0;32mIn[133], line 4\u001b[0m, in \u001b[0;36msubtract_row\u001b[0;34m(a, r)\u001b[0m\n\u001b[1;32m      2\u001b[0m \u001b[38;5;250m\u001b[39m\u001b[38;5;124;03m\"\"\"Subtract row r from all rows in a\"\"\"\u001b[39;00m\n\u001b[1;32m      3\u001b[0m \u001b[38;5;66;03m# YOUR CODE HERE\u001b[39;00m\n\u001b[0;32m----> 4\u001b[0m \u001b[38;5;28;01mraise\u001b[39;00m \u001b[38;5;167;01mNotImplementedError\u001b[39;00m()\n",
      "\u001b[0;31mNotImplementedError\u001b[0m: "
     ]
    }
   ],
   "source": [
    "assert np.all(subtract_row(A35, v5) == np.array([[ 1,  7,  2,  3, -3],\n",
    "       [ 3,  1,  1, -2,  2],\n",
    "       [ 1, -1,  5, -2, -2]]))"
   ]
  },
  {
   "cell_type": "markdown",
   "metadata": {},
   "source": [
    "Subtract the (3,) array v3 from each of the columns of A35.  Note that your function should work for all arrays of size (m,n) and columns of size (m,)."
   ]
  },
  {
   "cell_type": "code",
   "execution_count": null,
   "metadata": {
    "deletable": false,
    "nbgrader": {
     "cell_type": "code",
     "checksum": "a274962b2c11e50585b89c0d83b1cb42",
     "grade": false,
     "grade_id": "cell-67d1fe25f44ec2a8",
     "locked": false,
     "schema_version": 3,
     "solution": true,
     "task": false
    }
   },
   "outputs": [],
   "source": [
    "def subtract_col(a, c):\n",
    "    # YOUR CODE HERE\n",
    "    raise NotImplementedError()"
   ]
  },
  {
   "cell_type": "code",
   "execution_count": null,
   "metadata": {
    "deletable": false,
    "editable": false,
    "nbgrader": {
     "cell_type": "code",
     "checksum": "7feb1cca6ab6f7ef2057271766b2a3d3",
     "grade": true,
     "grade_id": "cell-500e37762b09ce8d",
     "locked": true,
     "points": 1,
     "schema_version": 3,
     "solution": false,
     "task": false
    }
   },
   "outputs": [],
   "source": [
    "assert np.all( subtract_col(A35, v3) == \\\n",
    "np.array([[ 1,  8,  4,  6,  1],\n",
    "          [ 2,  1,  2,  0,  5],\n",
    "          [-1, -2,  5, -1,  0]]))"
   ]
  },
  {
   "cell_type": "markdown",
   "metadata": {},
   "source": [
    "## Data Matrix and Target Vector"
   ]
  },
  {
   "cell_type": "markdown",
   "metadata": {},
   "source": [
    "A lot of tasks in Machine Learning start with a data matrix X and target vector y. Everyone of the m rows in X contains n feature values. X thus is an array of shape (m, n). The target vector value y[i] is either an indicator for the class that the object represent in row i of the data matrix belongs to, or it is a real value (e.g. in regression tasks).\n",
    "\n",
    "In this section we use the Iris data set as an example."
   ]
  },
  {
   "cell_type": "code",
   "execution_count": null,
   "metadata": {},
   "outputs": [],
   "source": [
    "from sklearn.datasets import load_iris\n",
    "dataset = load_iris()\n",
    "X = dataset.data\n",
    "y = dataset.target"
   ]
  },
  {
   "cell_type": "code",
   "execution_count": null,
   "metadata": {},
   "outputs": [],
   "source": [
    "print(X.shape, y.shape)"
   ]
  },
  {
   "cell_type": "markdown",
   "metadata": {},
   "source": [
    "The data sets in sklearn are annotated. For instance the meaning of the columns:"
   ]
  },
  {
   "cell_type": "code",
   "execution_count": null,
   "metadata": {},
   "outputs": [],
   "source": [
    "dataset.feature_names"
   ]
  },
  {
   "cell_type": "markdown",
   "metadata": {},
   "source": [
    "so the first column gives the sepal length, the second column the sepal width, etc. Btw: the Iris data set is a set of measurements on three different types of Irisses. The three types are:"
   ]
  },
  {
   "cell_type": "code",
   "execution_count": null,
   "metadata": {},
   "outputs": [],
   "source": [
    "names = dataset.target_names\n",
    "print(names)"
   ]
  },
  {
   "cell_type": "markdown",
   "metadata": {},
   "source": [
    "these different types are encoded with the values 0, 1 and 2 in the target vector y as we can see examing the unique values in the target vector y:"
   ]
  },
  {
   "cell_type": "code",
   "execution_count": null,
   "metadata": {},
   "outputs": [],
   "source": [
    "np.unique(y)"
   ]
  },
  {
   "cell_type": "markdown",
   "metadata": {},
   "source": [
    "For data sets from sklearn there is often a key DESCR that describes the dataset. In this case:"
   ]
  },
  {
   "cell_type": "code",
   "execution_count": null,
   "metadata": {},
   "outputs": [],
   "source": [
    "print(dataset.DESCR)"
   ]
  },
  {
   "cell_type": "code",
   "execution_count": null,
   "metadata": {},
   "outputs": [],
   "source": [
    "for (features, target) in zip(X,y):\n",
    "    print(features, names[target])"
   ]
  },
  {
   "cell_type": "markdown",
   "metadata": {},
   "source": [
    "Calculate the mean value for all 4 columns in the matrix X. Your statement should return an (4,) array M, such that M[0] is the mean of sepal lengths, etc. Now you can use the numpy function mean."
   ]
  },
  {
   "cell_type": "code",
   "execution_count": null,
   "metadata": {
    "deletable": false,
    "nbgrader": {
     "cell_type": "code",
     "checksum": "3ff065434fa7f993d00697047c194563",
     "grade": false,
     "grade_id": "cell-2c1b941ad5e664b1",
     "locked": false,
     "schema_version": 3,
     "solution": true,
     "task": false
    }
   },
   "outputs": [],
   "source": [
    "def means_columns(a):\n",
    "    # YOUR CODE HERE\n",
    "    raise NotImplementedError()"
   ]
  },
  {
   "cell_type": "code",
   "execution_count": null,
   "metadata": {
    "deletable": false,
    "editable": false,
    "nbgrader": {
     "cell_type": "code",
     "checksum": "ace03abe627422dd9d069edec7bdcb3f",
     "grade": true,
     "grade_id": "cell-28ba41806a64055e",
     "locked": true,
     "points": 1,
     "schema_version": 3,
     "solution": false,
     "task": false
    }
   },
   "outputs": [],
   "source": [
    "assert np.allclose(means_columns(X), \\\n",
    "           np.array([5.843, 3.057, 3.758, 1.199]), atol=0.005)\n"
   ]
  },
  {
   "cell_type": "markdown",
   "metadata": {},
   "source": [
    "Now subtract the mean value from each element in the data array X. I.e. from all elements in the first column you should subtract the mean of the first column. And the same for the other columns. Again you can do this in a one-liner. The result is again a (150,4) array, lets call it Xzm. You can check your answer by calculating the mean of the columns of this column and then you should get zeros of course."
   ]
  },
  {
   "cell_type": "code",
   "execution_count": null,
   "metadata": {
    "deletable": false,
    "nbgrader": {
     "cell_type": "code",
     "checksum": "410c4ef0418156888edebf41be127768",
     "grade": false,
     "grade_id": "cell-3b35cbe459fade1a",
     "locked": false,
     "schema_version": 3,
     "solution": true,
     "task": false
    }
   },
   "outputs": [],
   "source": [
    "def zero_mean_columns(a):\n",
    "    # YOUR CODE HERE\n",
    "    raise NotImplementedError()"
   ]
  },
  {
   "cell_type": "code",
   "execution_count": null,
   "metadata": {
    "deletable": false,
    "editable": false,
    "nbgrader": {
     "cell_type": "code",
     "checksum": "bc8fb88b0994cd4161628bbfaefeb66b",
     "grade": true,
     "grade_id": "cell-3adc6e03fa388bb1",
     "locked": true,
     "points": 1,
     "schema_version": 3,
     "solution": false,
     "task": false
    }
   },
   "outputs": [],
   "source": [
    "Xzm = zero_mean_columns(X)\n",
    "assert np.allclose(means_columns(Xzm), 0, atol=0.005)"
   ]
  },
  {
   "cell_type": "markdown",
   "metadata": {},
   "source": [
    "Calculate the standard deviations of all colums. Now you can use the std function."
   ]
  },
  {
   "cell_type": "code",
   "execution_count": null,
   "metadata": {
    "deletable": false,
    "nbgrader": {
     "cell_type": "code",
     "checksum": "a449f6940439af1f134d0c1015d82fff",
     "grade": false,
     "grade_id": "cell-d3254717cbed8776",
     "locked": false,
     "schema_version": 3,
     "solution": true,
     "task": false
    }
   },
   "outputs": [],
   "source": [
    "def stds_columns(a):\n",
    "    # YOUR CODE HERE\n",
    "    raise NotImplementedError()"
   ]
  },
  {
   "cell_type": "code",
   "execution_count": null,
   "metadata": {
    "deletable": false,
    "editable": false,
    "nbgrader": {
     "cell_type": "code",
     "checksum": "e8047e1d3d119004d8c4e69a24bce27f",
     "grade": true,
     "grade_id": "cell-66c690fe37a7117e",
     "locked": true,
     "points": 1,
     "schema_version": 3,
     "solution": false,
     "task": false
    }
   },
   "outputs": [],
   "source": [
    "assert np.allclose(stds_columns(X), \\\n",
    "                np.array([0.825, 0.434, 1.759, 0.760]), \n",
    "                atol=0.005)"
   ]
  },
  {
   "cell_type": "markdown",
   "metadata": {},
   "source": [
    "Finally calculate the Z-score for each of the elements. So for each value in column i first subtract the mean of column i and then divide by the standard deviation of the column i. You are NOT allowed to use the zscore function from scipy."
   ]
  },
  {
   "cell_type": "code",
   "execution_count": null,
   "metadata": {
    "deletable": false,
    "nbgrader": {
     "cell_type": "code",
     "checksum": "194ef21b35056a579af1104c489ec209",
     "grade": false,
     "grade_id": "cell-96e3274b0249c05b",
     "locked": false,
     "schema_version": 3,
     "solution": true,
     "task": false
    }
   },
   "outputs": [],
   "source": [
    "def zscore_columns(a):\n",
    "    # YOUR CODE HERE\n",
    "    raise NotImplementedError()"
   ]
  },
  {
   "cell_type": "code",
   "execution_count": null,
   "metadata": {
    "deletable": false,
    "editable": false,
    "nbgrader": {
     "cell_type": "code",
     "checksum": "d9a62f8a80f34fe83b8a7d3fb7ca6ab4",
     "grade": true,
     "grade_id": "cell-0083aefe8bd55149",
     "locked": true,
     "points": 1,
     "schema_version": 3,
     "solution": false,
     "task": false
    }
   },
   "outputs": [],
   "source": [
    "import scipy\n",
    "assert np.allclose(zscore_columns(X), scipy.stats.zscore(X,axis=0)) "
   ]
  },
  {
   "cell_type": "markdown",
   "metadata": {},
   "source": [
    "In this subsection we have calculated the mean and standard deviation of an entire column. In practice it is often nescessary to first select some rows from X and only then calculate of property of the columns."
   ]
  },
  {
   "cell_type": "markdown",
   "metadata": {},
   "source": [
    "Calculate the mean of all columns but only for the rows whose target value equals 1. So only for one type of Irisses."
   ]
  },
  {
   "cell_type": "code",
   "execution_count": null,
   "metadata": {
    "deletable": false,
    "nbgrader": {
     "cell_type": "code",
     "checksum": "b466d6f3c3657c66ea5a8a6fed3a62e2",
     "grade": false,
     "grade_id": "cell-142d892caf6286ac",
     "locked": false,
     "schema_version": 3,
     "solution": true,
     "task": false
    }
   },
   "outputs": [],
   "source": [
    "def means_versicolor(X):\n",
    "    # YOUR CODE HERE\n",
    "    raise NotImplementedError()"
   ]
  },
  {
   "cell_type": "code",
   "execution_count": null,
   "metadata": {
    "deletable": false,
    "editable": false,
    "nbgrader": {
     "cell_type": "code",
     "checksum": "1226a1d2c7bcb23c6f4d609ce6439716",
     "grade": true,
     "grade_id": "cell-2aa38e0bfd6789f7",
     "locked": true,
     "points": 1,
     "schema_version": 3,
     "solution": false,
     "task": false
    }
   },
   "outputs": [],
   "source": [
    "assert np.allclose(means_versicolor(X), \\\n",
    "                np.array([5.94, 2.77 , 4.26 , 1.33]),\n",
    "                atol = 0.005)"
   ]
  },
  {
   "cell_type": "markdown",
   "metadata": {},
   "source": [
    "## Linear Algebra"
   ]
  },
  {
   "cell_type": "markdown",
   "metadata": {},
   "source": [
    "In Python 3 the `@` operator for matrix multiplication was introduced. This means that `A @ B` denotes the matrix multiplication of a matrix (array) A of shape (m,n) with a matrix (array) B of shape (n,k).\n",
    "\n",
    "Python also allows arrays of shape (n,) to be used in matrix multiplications. Depending on the context it depends on whether Python interprets an array with shape (n,) as a matrix of shape (n,1) or (1,n).\n",
    "\n",
    "Below some examples are given."
   ]
  },
  {
   "cell_type": "code",
   "execution_count": null,
   "metadata": {},
   "outputs": [],
   "source": [
    "np.random.seed(324893485)\n",
    "A = np.random.randint(1,10,size=(3,4))\n",
    "x = np.random.randint(1,10,size=(4,))\n",
    "y = np.random.randint(1,10,size=(3,))"
   ]
  },
  {
   "cell_type": "code",
   "execution_count": null,
   "metadata": {},
   "outputs": [],
   "source": [
    "A @ x"
   ]
  },
  {
   "cell_type": "code",
   "execution_count": null,
   "metadata": {},
   "outputs": [],
   "source": [
    "# A @ y  # this does not work, try it yourself"
   ]
  },
  {
   "cell_type": "code",
   "execution_count": null,
   "metadata": {},
   "outputs": [],
   "source": [
    "y @ A"
   ]
  },
  {
   "cell_type": "code",
   "execution_count": null,
   "metadata": {},
   "outputs": [],
   "source": [
    "# x @ A  # this does not work, try it yourself"
   ]
  },
  {
   "cell_type": "code",
   "execution_count": null,
   "metadata": {},
   "outputs": [],
   "source": [
    "x @ x"
   ]
  },
  {
   "cell_type": "code",
   "execution_count": null,
   "metadata": {},
   "outputs": [],
   "source": [
    "vector2array(x) @ vector2array(x).T"
   ]
  },
  {
   "cell_type": "code",
   "execution_count": null,
   "metadata": {},
   "outputs": [],
   "source": [
    "np.outer(x, x)"
   ]
  },
  {
   "cell_type": "markdown",
   "metadata": {},
   "source": [
    "So nothing for you to do here except note that an array of shape (n,) can be used as either row vector of column vector in a vector-matrix or matrix-vector multiplication respectively."
   ]
  },
  {
   "cell_type": "markdown",
   "metadata": {},
   "source": [
    "Note that numpy provides a class 'matrix'"
   ]
  },
  {
   "cell_type": "code",
   "execution_count": null,
   "metadata": {},
   "outputs": [],
   "source": [
    "M = np.matrix(A)\n",
    "x_col = x[:, np.newaxis]\n",
    "M * x_col"
   ]
  },
  {
   "cell_type": "markdown",
   "metadata": {},
   "source": [
    "I strongly advise not to use the matrix class, again: <span style=\"color:red\"> DO NOT USE THE MATRIX CLASS</span>, but it is good to know in case you see it in someone else's code. With Python 3's @ operator for matrix multiplication there is really no need anymore for the matrix class (IMHO).\n"
   ]
  },
  {
   "cell_type": "code",
   "execution_count": null,
   "metadata": {},
   "outputs": [],
   "source": []
  }
 ],
 "metadata": {
  "kernelspec": {
   "display_name": "Python 3",
   "language": "python",
   "name": "python3"
  },
  "language_info": {
   "codemirror_mode": {
    "name": "ipython",
    "version": 3
   },
   "file_extension": ".py",
   "mimetype": "text/x-python",
   "name": "python",
   "nbconvert_exporter": "python",
   "pygments_lexer": "ipython3",
   "version": "3.10.12"
  },
  "latex_envs": {
   "LaTeX_envs_menu_present": true,
   "autoclose": false,
   "autocomplete": true,
   "bibliofile": "biblio.bib",
   "cite_by": "apalike",
   "current_citInitial": 1,
   "eqLabelWithNumbers": true,
   "eqNumInitial": 1,
   "hotkeys": {
    "equation": "Ctrl-E",
    "itemize": "Ctrl-I"
   },
   "labels_anchors": false,
   "latex_user_defs": false,
   "report_style_numbering": true,
   "user_envs_cfg": false
  },
  "toc": {
   "base_numbering": 1,
   "nav_menu": {},
   "number_sections": true,
   "sideBar": true,
   "skip_h1_title": true,
   "title_cell": "Table of Contents",
   "title_sidebar": "Contents",
   "toc_cell": true,
   "toc_position": {},
   "toc_section_display": true,
   "toc_window_display": true
  },
  "varInspector": {
   "cols": {
    "lenName": 16,
    "lenType": 16,
    "lenVar": 40
   },
   "kernels_config": {
    "python": {
     "delete_cmd_postfix": "",
     "delete_cmd_prefix": "del ",
     "library": "var_list.py",
     "varRefreshCmd": "print(var_dic_list())"
    },
    "r": {
     "delete_cmd_postfix": ") ",
     "delete_cmd_prefix": "rm(",
     "library": "var_list.r",
     "varRefreshCmd": "cat(var_dic_list()) "
    }
   },
   "types_to_exclude": [
    "module",
    "function",
    "builtin_function_or_method",
    "instance",
    "_Feature"
   ],
   "window_display": false
  }
 },
 "nbformat": 4,
 "nbformat_minor": 2
}
